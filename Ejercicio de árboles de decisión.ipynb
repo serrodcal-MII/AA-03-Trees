{
 "cells": [
  {
   "cell_type": "markdown",
   "metadata": {},
   "source": [
    "# Árboles de decisión"
   ]
  },
  {
   "cell_type": "markdown",
   "metadata": {},
   "source": [
    "## Procesado de los datos"
   ]
  },
  {
   "cell_type": "markdown",
   "metadata": {},
   "source": [
    "El conjunto de datos sobre cáncer de mama está incluido en *Scikit-learn*, se obtiene usando la función `load_breast_cancer` incluida en la librería `sklearn.datasets`. Este conjunto de datos contiene 569 ejemplos con 30 características sobre clasificaciones de cáncer de mama, con dos clasificaciones posibles."
   ]
  },
  {
   "cell_type": "code",
   "execution_count": null,
   "metadata": {},
   "outputs": [],
   "source": [
    "from sklearn.datasets import load_breast_cancer\n",
    "\n",
    "cancer = load_breast_cancer()"
   ]
  },
  {
   "cell_type": "markdown",
   "metadata": {},
   "source": [
    "Este conjunto de datos es un diccionario con varios campos:\n",
    "* `data`: Es el conjunto de datos, se trata de un array en el que cada componente es un array con las características de cada instancia.\n",
    "* `target`: Es el conjunto de valores de clasificación para cada instancia. Es un array del mismo tamaño que `data`, en el que se indica el valor de clasificación de cada instancia, en el mismo orden en que éstas se encuentran en el array `data`.\n",
    "* `DESCR`: Es una descripción del conjunto de datos.\n",
    "* `target_names`: Es un array con los nombres de cada valor de clasificación.\n",
    "* `feature_names`: Es un array con los nombres de cada característica.\n",
    "\n",
    "Almacenamos los datos en las variables `X_data`, `y_data`, `X_names` e `y_names`."
   ]
  },
  {
   "cell_type": "code",
   "execution_count": null,
   "metadata": {},
   "outputs": [],
   "source": [
    "X_data, y_data, X_names, y_names = \\\n",
    "    cancer.data, cancer.target, cancer.feature_names, cancer.target_names"
   ]
  },
  {
   "cell_type": "markdown",
   "metadata": {},
   "source": [
    "## Contenido del ejercicio"
   ]
  },
  {
   "cell_type": "markdown",
   "metadata": {},
   "source": [
    "El ejercicio consiste en\n",
    "* Realizar una separación del conjunto de instancias en conjunto de entrenamiento (70%) y conjunto de prueba (30%).\n",
    "* Construir un árbol de decisión sin poda para el conjunto de entrenamiento y evaluar su rendimiento en el conjunto de prueba.\n",
    "* Definir la funcion `postPoda` que, dado un clasificador basado en árboles de decisión, `treeClf`, un conjunto de ejemplos, `Xdata`, y sus valores de clasificación, `ydata`; evalúe todas las posibles podas del árbol del clasificador `treeClf` en todos los nodos internos (una única poda cada vez) y devuelva el clasificador con el árbol podado que suponga una mayor mejora en el rendimiento (con respecto al clasificador original) en el conjunto de ejemplos proporcionado. En caso de que ninguna poda mejore el rendimiento del clasificador original, devuelve dicho clasificador.\n",
    "* Utilizar la función del apartado anterior para podar a posteriori el clasificador basado en árboles de decisión obtenido en el segundo apartado, con respecto al conjunto de datos de entrenamiento (no debe haber mejora), con respecto al conjunto de datos de prueba y con respecto al conjunto total de datos.\n",
    "* Comparar el rendimiento de los clasificadores obtenidos en el apartado anterior con los que se podrían obtener a partir del conjunto de datos de entrenamiento usando distintos tipos de podas a priori (*max_depth*, *min_samples_split*, *min_impurity_split*, ...) y *ensemble learning* (*random fores*, *gradient boosting*)\n",
    "\n",
    "El **desarrollo tiene que estar razonado**, indicando en cada apartado qué se está haciendo, **demostrando así el conocimiento adquirido en este módulo**. ¿Qué conclusiones puedes sacar de lo aprendido sobre árboles de decisión?"
   ]
  }
 ],
 "metadata": {
  "kernelspec": {
   "display_name": "Python 3",
   "language": "python",
   "name": "python3"
  },
  "language_info": {
   "codemirror_mode": {
    "name": "ipython",
    "version": 3
   },
   "file_extension": ".py",
   "mimetype": "text/x-python",
   "name": "python",
   "nbconvert_exporter": "python",
   "pygments_lexer": "ipython3",
   "version": "3.7.4"
  }
 },
 "nbformat": 4,
 "nbformat_minor": 2
}
